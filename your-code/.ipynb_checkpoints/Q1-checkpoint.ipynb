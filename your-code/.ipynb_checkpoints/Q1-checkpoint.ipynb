{
 "cells": [
  {
   "cell_type": "markdown",
   "metadata": {},
   "source": [
    "In the cell below, create a Python function that wraps your previous solution for the Bag of Words lab.\n",
    "\n",
    "Requirements:\n",
    "\n",
    "1. Your function should accept the following parameters:\n",
    "    * `docs` [REQUIRED] - array of document paths.\n",
    "    * `stop_words` [OPTIONAL] - array of stop words. The default value is an empty array.\n",
    "\n",
    "1. Your function should return a Python object that contains the following:\n",
    "    * `bag_of_words` - array of strings of normalized unique words in the corpus.\n",
    "    * `term_freq` - array of the term-frequency vectors."
   ]
  },
  {
   "cell_type": "code",
   "execution_count": 4,
   "metadata": {},
   "outputs": [],
   "source": [
    "# Import required libraries\n",
    "import re\n",
    "\n",
    "# Define function\n",
    "def get_bow_from_docs(docs, stop_words=[]):\n",
    "    \n",
    "    # In the function, first define the variables you will use such as `corpus`, `bag_of_words`, and `term_freq`.\n",
    "    bag_of_words = []\n",
    "    corpus=[]\n",
    "    terms_freq=[]\n",
    "    \n",
    "    \n",
    "    \"\"\"\n",
    "    Loop `docs` and read the content of each doc into a string in `corpus`.\n",
    "    Remember to convert the doc content to lowercases and remove punctuation.\n",
    "    \"\"\"\n",
    "    for doc in docs:\n",
    "        corpus.append(open(doc,\"r\").read())\n",
    "        \n",
    "    i = 0\n",
    "    for texto in corpus:\n",
    "        corpus[i] = re.findall('\\w+',texto.lower())\n",
    "        i += 1\n",
    "\n",
    "    \"\"\"\n",
    "    Loop `corpus`. Append the terms in each doc into the `bag_of_words` array. The terms in `bag_of_words` \n",
    "    should be unique which means before adding each term you need to check if it's already added to the array.\n",
    "    In addition, check if each term is in the `stop_words` array. Only append the term to `bag_of_words`\n",
    "    if it is not a stop word.\n",
    "    \"\"\"\n",
    "    for frase in corpus:\n",
    "        for word in frase:\n",
    "            if (word not in bag_of_words) & (word not in stop_words):\n",
    "                bag_of_words.append(word)\n",
    "    \n",
    "    \n",
    "    \n",
    "    \"\"\"\n",
    "    Loop `corpus` again. For each doc string, count the number of occurrences of each term in `bag_of_words`. \n",
    "    Create an array for each doc's term frequency and append it to `term_freq`.\n",
    "    \"\"\"\n",
    "\n",
    "    for frase in corpus:\n",
    "        terms_freq_ind = []\n",
    "        for word in bag_of_words:\n",
    "            if word in frase:\n",
    "                terms_freq_ind.append(1)\n",
    "            else:\n",
    "                terms_freq_ind.append(0)\n",
    "                \n",
    "        terms_freq.append(terms_freq_ind)\n",
    "   \n",
    "    # Now return your output as an object\n",
    "    return {\n",
    "        \"bag_of_words\": bag_of_words,\n",
    "        \"term_freq\": terms_freq\n",
    "    }\n",
    "    "
   ]
  },
  {
   "cell_type": "markdown",
   "metadata": {},
   "source": [
    "Test your function without stop words. You should see the output like below:\n",
    "\n",
    "```{'bag_of_words': ['ironhack', 'is', 'cool', 'i', 'love', 'am', 'a', 'student', 'at'], 'term_freq': [[1, 1, 1, 0, 0, 0, 0, 0, 0], [1, 0, 0, 1, 1, 0, 0, 0, 0], [1, 0, 0, 1, 0, 1, 1, 1, 1]]}```"
   ]
  },
  {
   "cell_type": "code",
   "execution_count": 5,
   "metadata": {},
   "outputs": [
    {
     "name": "stdout",
     "output_type": "stream",
     "text": [
      "{'bag_of_words': ['ironhack', 'is', 'cool', 'i', 'love', 'am', 'a', 'student', 'at'], 'term_freq': [[1, 1, 1, 0, 0, 0, 0, 0, 0], [1, 0, 0, 1, 1, 0, 0, 0, 0], [1, 0, 0, 1, 0, 1, 1, 1, 1]]}\n"
     ]
    }
   ],
   "source": [
    "# Define doc paths array\n",
    "path =\"../../lab-string-operations/your-code/\"\n",
    "docs = [path + 'doc1.txt', path + 'doc2.txt',path + 'doc3.txt']\n",
    "\n",
    "# Obtain BoW from your function\n",
    "bow = get_bow_from_docs(docs)\n",
    "\n",
    "# Print BoW\n",
    "print(bow)"
   ]
  },
  {
   "cell_type": "markdown",
   "metadata": {},
   "source": [
    "If your attempt above is successful, nice work done!\n",
    "\n",
    "Now test your function again with the stop words. In the previous lab we defined the stop words in a large array. In this lab, we'll import the stop words from Scikit-Learn."
   ]
  },
  {
   "cell_type": "code",
   "execution_count": 9,
   "metadata": {},
   "outputs": [
    {
     "name": "stdout",
     "output_type": "stream",
     "text": [
      "frozenset({'after', 'one', 'what', 'anyway', 'or', 'two', 'with', 'for', 'once', 'fifteen', 'about', 'eight', 'something', 'someone', 'i', 'often', 'therein', 'very', 'an', 'must', 'beyond', 'less', 'over', 'except', 'serious', 'least', 'then', 'there', 'yet', 'his', 'she', 'yours', 'them', 'twenty', 'already', 'beforehand', 'cant', 'from', 'your', 'not', 'towards', 'back', 'otherwise', 'thick', 'neither', 'until', 'herself', 'etc', 'this', 'more', 'nevertheless', 'de', 'either', 'nothing', 'you', 'a', 'whereupon', 'the', 'others', 'twelve', 'also', 'around', 'anyone', 'himself', 'myself', 'has', 'done', 'system', 'never', 'side', 'third', 'latter', 'being', 'take', 'him', 'seemed', 'itself', 'and', 'why', 'hasnt', 'down', 'here', 'themselves', 'see', 'her', 'hereby', 'herein', 'amount', 'per', 'becomes', 'thence', 'made', 'be', 'meanwhile', 'many', 'while', 'whither', 'former', 'sincere', 'that', 'when', 'con', 'below', 'due', 'each', 'would', 'co', 'moreover', 'much', 'since', 'whereafter', 'together', 'besides', 'another', 'do', 'well', 'describe', 'five', 'indeed', 'other', 'inc', 'become', 'between', 'hundred', 'off', 'somehow', 'to', 'nor', 'couldnt', 'some', 'same', 'empty', 'now', 'sometimes', 'could', 'have', 'behind', 'by', 'in', 'are', 'should', 'no', 'afterwards', 'perhaps', 'everywhere', 'seem', 'whoever', 'hereupon', 'whereas', 'even', 'me', 'seems', 'still', 'give', 'top', 'all', 'call', 'their', 'next', 'than', 'within', 'my', 'too', 'get', 'few', 'both', 'further', 'during', 'wherein', 'above', 'might', 'mine', 'yourselves', 'anywhere', 'among', 'onto', 'rather', 'fifty', 'forty', 'interest', 'our', 'up', 'first', 'its', 'most', 'beside', 'cannot', 'else', 'four', 'part', 'will', 'un', 'us', 'found', 'nine', 'thereafter', 'full', 'none', 'seeming', 'as', 'thru', 'wherever', 'formerly', 'may', 'was', 'almost', 'six', 'ever', 'thereby', 'toward', 'against', 'nobody', 'bill', 'whom', 'been', 'eg', 'into', 'of', 'whatever', 'on', 'front', 'move', 'sixty', 'whenever', 'mill', 'he', 'mostly', 'at', 'find', 'thereupon', 'through', 'although', 'alone', 'via', 'whereby', 'nowhere', 'out', 'therefore', 'amongst', 'became', 'because', 'those', 'can', 'sometime', 'anyhow', 'such', 'under', 'though', 'cry', 'enough', 'ourselves', 'detail', 'whose', 'whether', 'it', 're', 'whence', 'fill', 'hereafter', 'is', 'own', 'everything', 'if', 'ours', 'amoungst', 'upon', 'which', 'before', 'had', 'latterly', 'fire', 'ltd', 'any', 'always', 'last', 'everyone', 'these', 'however', 'anything', 'hers', 'yourself', 'thus', 'keep', 'where', 'who', 'throughout', 'somewhere', 'show', 'whole', 'ie', 'becoming', 'how', 'only', 'thin', 'eleven', 'namely', 'again', 'please', 'elsewhere', 'they', 'ten', 'put', 'so', 'were', 'without', 'go', 'hence', 'across', 'but', 'noone', 'several', 'name', 'every', 'along', 'am', 'three', 'we', 'bottom'})\n"
     ]
    }
   ],
   "source": [
    "from sklearn.feature_extraction import stop_words\n",
    "print(stop_words.ENGLISH_STOP_WORDS)\n"
   ]
  },
  {
   "cell_type": "markdown",
   "metadata": {},
   "source": [
    "You should have seen a large list of words that looks like:\n",
    "\n",
    "```frozenset({'across', 'mine', 'cannot', ...})```\n",
    "\n",
    "`frozenset` is a type of Python object that is immutable. In this lab you can use it just like an array without conversion."
   ]
  },
  {
   "cell_type": "markdown",
   "metadata": {},
   "source": [
    "Next, test your function with supplying `stop_words.ENGLISH_STOP_WORDS` as the second parameter."
   ]
  },
  {
   "cell_type": "code",
   "execution_count": 10,
   "metadata": {},
   "outputs": [
    {
     "name": "stdout",
     "output_type": "stream",
     "text": [
      "{'bag_of_words': ['ironhack', 'cool', 'love', 'student'], 'term_freq': [[1, 1, 0, 0], [1, 0, 1, 0], [1, 0, 0, 1]]}\n"
     ]
    }
   ],
   "source": [
    "\n",
    "bow = get_bow_from_docs(docs,stop_words.ENGLISH_STOP_WORDS)\n",
    "\n",
    "print(bow)"
   ]
  },
  {
   "cell_type": "markdown",
   "metadata": {},
   "source": [
    "You should have seen:\n",
    "\n",
    "```{'bag_of_words': ['ironhack', 'cool', 'love', 'student'], 'term_freq': [[1, 1, 0, 0], [1, 0, 1, 0], [1, 0, 0, 1]]}```"
   ]
  },
  {
   "cell_type": "code",
   "execution_count": null,
   "metadata": {},
   "outputs": [],
   "source": []
  }
 ],
 "metadata": {
  "kernelspec": {
   "display_name": "Python 3",
   "language": "python",
   "name": "python3"
  },
  "language_info": {
   "codemirror_mode": {
    "name": "ipython",
    "version": 3
   },
   "file_extension": ".py",
   "mimetype": "text/x-python",
   "name": "python",
   "nbconvert_exporter": "python",
   "pygments_lexer": "ipython3",
   "version": "3.7.0"
  }
 },
 "nbformat": 4,
 "nbformat_minor": 2
}
