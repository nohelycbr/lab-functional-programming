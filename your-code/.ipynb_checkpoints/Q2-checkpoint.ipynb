{
 "cells": [
  {
   "cell_type": "markdown",
   "metadata": {},
   "source": [
    "Now we want to enhance the `get_bow_from_docs` function so that it will work with HTML webpages. In HTML, there are a lot of messy codes such as HTML tags, Javascripts, [unicodes](https://www.w3schools.com/charsets/ref_utf_misc_symbols.asp) that will mess up your bag of words. We need to clean up those junk before generating BoW.\n",
    "\n",
    "Next, what you will do is to define several new functions each of which is specialized to clean up the HTML codes in one aspect. For instance, you can have a `strip_html_tags` function to remove all HTML tags, a `remove_punctuation` function to remove all punctuation, a `to_lower_case` function to convert string to lowercase, and a `remove_unicode` function to remove all unicodes.\n",
    "\n",
    "Then in your `get_bow_from_doc` function, you will call each of those functions you created to clean up the HTML before you generate the corpus.\n",
    "\n",
    "Note: Please use Python string operations and regular expression only in this lab. Do not use extra libraries such as `beautifulsoup` because otherwise you loose the purpose of practicing."
   ]
  },
  {
   "cell_type": "code",
   "execution_count": 60,
   "metadata": {},
   "outputs": [],
   "source": [
    "# Define your string handling functions below\n",
    "# Minimal 3 functions\n"
   ]
  },
  {
   "cell_type": "markdown",
   "metadata": {},
   "source": [
    "Next, paste your previously written `get_bow_from_docs` function below. Call your functions above at the appropriate place."
   ]
  },
  {
   "cell_type": "code",
   "execution_count": 17,
   "metadata": {},
   "outputs": [],
   "source": [
    "import re\n",
    "def get_bow_from_docs(docs, stop_words=[]):\n",
    "    # In the function, first define the variables you will use such as `corpus`, `bag_of_words`, and `term_freq`.\n",
    "    corpus = []\n",
    "    bag_of_words = []\n",
    "    terms_freq = []\n",
    "    \n",
    "    # write your codes here\n",
    "    for doc in docs:\n",
    "        print(open(doc,'r').read().decode('utf-16le'))\n",
    "        corpus.append(open(doc,\"r\").read())\n",
    "        \n",
    "    i = 0\n",
    "    for texto in corpus:\n",
    "        corpus[i] = re.findall('\\w+',texto.lower())\n",
    "        i += 1\n",
    "        \n",
    "    for frase in corpus:\n",
    "        for word in frase:\n",
    "            if (word not in bag_of_words) & (word not in stop_words):\n",
    "                bag_of_words.append(word)\n",
    "   \n",
    "    \n",
    "    for frase in corpus:\n",
    "        terms_freq_ind = []\n",
    "        for word in bag_of_words:\n",
    "            if word in frase:\n",
    "                terms_freq_ind.append(1)\n",
    "            else:\n",
    "                terms_freq_ind.append(0)\n",
    "                \n",
    "        terms_freq.append(terms_freq_ind)\n",
    "    \n",
    "    return {\n",
    "        \"bag_of_words\": bag_of_words,\n",
    "        \"term_freq\": term_freq\n",
    "    }\n",
    "    "
   ]
  },
  {
   "cell_type": "markdown",
   "metadata": {},
   "source": [
    "Next, read the content from the three HTML webpages in the `your-codes` directory to test your function."
   ]
  },
  {
   "cell_type": "code",
   "execution_count": 18,
   "metadata": {},
   "outputs": [
    {
     "ename": "UnicodeDecodeError",
     "evalue": "'charmap' codec can't decode byte 0x9d in position 167699: character maps to <undefined>",
     "output_type": "error",
     "traceback": [
      "\u001b[1;31m---------------------------------------------------------------------------\u001b[0m",
      "\u001b[1;31mUnicodeDecodeError\u001b[0m                        Traceback (most recent call last)",
      "\u001b[1;32m<ipython-input-18-63ebbc1fa021>\u001b[0m in \u001b[0;36m<module>\u001b[1;34m\u001b[0m\n\u001b[0;32m      7\u001b[0m         \u001b[1;34m'www.lipsum.com.html'\u001b[0m\u001b[1;33m\u001b[0m\u001b[0m\n\u001b[0;32m      8\u001b[0m     ],\n\u001b[1;32m----> 9\u001b[1;33m     \u001b[0mstop_words\u001b[0m\u001b[1;33m\u001b[0m\u001b[0m\n\u001b[0m\u001b[0;32m     10\u001b[0m )\n\u001b[0;32m     11\u001b[0m \u001b[1;33m\u001b[0m\u001b[0m\n",
      "\u001b[1;32m<ipython-input-17-1399530bdd99>\u001b[0m in \u001b[0;36mget_bow_from_docs\u001b[1;34m(docs, stop_words)\u001b[0m\n\u001b[0;32m      8\u001b[0m     \u001b[1;31m# write your codes here\u001b[0m\u001b[1;33m\u001b[0m\u001b[1;33m\u001b[0m\u001b[0m\n\u001b[0;32m      9\u001b[0m     \u001b[1;32mfor\u001b[0m \u001b[0mdoc\u001b[0m \u001b[1;32min\u001b[0m \u001b[0mdocs\u001b[0m\u001b[1;33m:\u001b[0m\u001b[1;33m\u001b[0m\u001b[0m\n\u001b[1;32m---> 10\u001b[1;33m         \u001b[0mprint\u001b[0m\u001b[1;33m(\u001b[0m\u001b[0mopen\u001b[0m\u001b[1;33m(\u001b[0m\u001b[0mdoc\u001b[0m\u001b[1;33m,\u001b[0m\u001b[1;34m'r'\u001b[0m\u001b[1;33m)\u001b[0m\u001b[1;33m.\u001b[0m\u001b[0mread\u001b[0m\u001b[1;33m(\u001b[0m\u001b[1;33m)\u001b[0m\u001b[1;33m.\u001b[0m\u001b[0mdecode\u001b[0m\u001b[1;33m(\u001b[0m\u001b[1;34m'utf-16le'\u001b[0m\u001b[1;33m)\u001b[0m\u001b[1;33m)\u001b[0m\u001b[1;33m\u001b[0m\u001b[0m\n\u001b[0m\u001b[0;32m     11\u001b[0m         \u001b[0mcorpus\u001b[0m\u001b[1;33m.\u001b[0m\u001b[0mappend\u001b[0m\u001b[1;33m(\u001b[0m\u001b[0mopen\u001b[0m\u001b[1;33m(\u001b[0m\u001b[0mdoc\u001b[0m\u001b[1;33m,\u001b[0m\u001b[1;34m\"r\"\u001b[0m\u001b[1;33m)\u001b[0m\u001b[1;33m.\u001b[0m\u001b[0mread\u001b[0m\u001b[1;33m(\u001b[0m\u001b[1;33m)\u001b[0m\u001b[1;33m)\u001b[0m\u001b[1;33m\u001b[0m\u001b[0m\n\u001b[0;32m     12\u001b[0m \u001b[1;33m\u001b[0m\u001b[0m\n",
      "\u001b[1;32mC:\\Program Files\\Python37\\lib\\encodings\\cp1252.py\u001b[0m in \u001b[0;36mdecode\u001b[1;34m(self, input, final)\u001b[0m\n\u001b[0;32m     21\u001b[0m \u001b[1;32mclass\u001b[0m \u001b[0mIncrementalDecoder\u001b[0m\u001b[1;33m(\u001b[0m\u001b[0mcodecs\u001b[0m\u001b[1;33m.\u001b[0m\u001b[0mIncrementalDecoder\u001b[0m\u001b[1;33m)\u001b[0m\u001b[1;33m:\u001b[0m\u001b[1;33m\u001b[0m\u001b[0m\n\u001b[0;32m     22\u001b[0m     \u001b[1;32mdef\u001b[0m \u001b[0mdecode\u001b[0m\u001b[1;33m(\u001b[0m\u001b[0mself\u001b[0m\u001b[1;33m,\u001b[0m \u001b[0minput\u001b[0m\u001b[1;33m,\u001b[0m \u001b[0mfinal\u001b[0m\u001b[1;33m=\u001b[0m\u001b[1;32mFalse\u001b[0m\u001b[1;33m)\u001b[0m\u001b[1;33m:\u001b[0m\u001b[1;33m\u001b[0m\u001b[0m\n\u001b[1;32m---> 23\u001b[1;33m         \u001b[1;32mreturn\u001b[0m \u001b[0mcodecs\u001b[0m\u001b[1;33m.\u001b[0m\u001b[0mcharmap_decode\u001b[0m\u001b[1;33m(\u001b[0m\u001b[0minput\u001b[0m\u001b[1;33m,\u001b[0m\u001b[0mself\u001b[0m\u001b[1;33m.\u001b[0m\u001b[0merrors\u001b[0m\u001b[1;33m,\u001b[0m\u001b[0mdecoding_table\u001b[0m\u001b[1;33m)\u001b[0m\u001b[1;33m[\u001b[0m\u001b[1;36m0\u001b[0m\u001b[1;33m]\u001b[0m\u001b[1;33m\u001b[0m\u001b[0m\n\u001b[0m\u001b[0;32m     24\u001b[0m \u001b[1;33m\u001b[0m\u001b[0m\n\u001b[0;32m     25\u001b[0m \u001b[1;32mclass\u001b[0m \u001b[0mStreamWriter\u001b[0m\u001b[1;33m(\u001b[0m\u001b[0mCodec\u001b[0m\u001b[1;33m,\u001b[0m\u001b[0mcodecs\u001b[0m\u001b[1;33m.\u001b[0m\u001b[0mStreamWriter\u001b[0m\u001b[1;33m)\u001b[0m\u001b[1;33m:\u001b[0m\u001b[1;33m\u001b[0m\u001b[0m\n",
      "\u001b[1;31mUnicodeDecodeError\u001b[0m: 'charmap' codec can't decode byte 0x9d in position 167699: character maps to <undefined>"
     ]
    }
   ],
   "source": [
    "#from sklearn.feature_extraction import stop_words\n",
    "stop_words = ['etc', 'hereby', 'whereby', 'alone', 'seem', 'keep', 'somehow', 'amoungst', 'nine', 'whenever', 'ours', 'so', 'as', 'anyhow', 'go', 'other', 'any', 'are', 'onto', 'became', 'side', 'whatever', 'detail', 'often', 'mostly', 'eight', 'an', 'others', 'move', 'for', 'who', 'less', 'should', 'much', 'because', 'were', 'somewhere', 'formerly', 'find', 'whose', 'sometimes', 'their', 'these', 'once', 'seeming', 'along', 'inc', 'hasnt', 'may', 'yourself', 'also', 'latter', 'toward', 'ourselves', 'next', 'hers', 'mine', 'else', 'now', 'we', 'con', 'many', 'six', 'become', 'whether', 'until', 'all', 'already', 'ltd', 'our', 'get', 'beforehand', 'it', 'us', 'mill', 'was', 'thereby', 'anyway', 'couldnt', 'some', 'thru', 'after', 'is', 'his', 'done', 'sincere', 'namely', 'with', 'part', 'hereupon', 'why', 'from', 'a', 'therefore', 'although', 'serious', 'five', 'none', 'wherever', 'besides', 'where', 'upon', 'whoever', 'without', 'several', 'never', 'be', 'noone', 'please', 'down', 'further', 'under', 'moreover', 'forty', 'two', 'no', 'would', 'throughout', 'herein', 'ever', 'to', 'your', 'amount', 'same', 'amongst', 'must', 'nevertheless', 'whence', 'own', 'by', 'seemed', 'this', 'on', 'such', 'becomes', 'herself', 'anywhere', 'third', 'bottom', 'rather', 'in', 'being', 'someone', 'last', 'eleven', 'whom', 'except', 'he', 'very', 'almost', 'whither', 'my', 'un', 'well', 'myself', 'am', 'here', 'due', 'wherein', 'otherwise', 'de', 'perhaps', 'only', 'of', 'have', 'fifty', 'full', 'three', 'has', 'though', 'what', 'both', 'per', 'through', 'thick', 'latterly', 'hereafter', 'too', 'top', 'nobody', 'you', 'describe', 'whereas', 'yours', 'at', 'made', 'there', 'sometime', 're', 'beyond', 'hundred', 'still', 'thus', 'call', 'off', 'up', 'between', 'beside', 'enough', 'above', 'her', 'whole', 'among', 'nowhere', 'one', 'hence', 'nor', 'see', 'across', 'than', 'least', 'again', 'four', 'take', 'but', 'i', 'towards', 'can', 'thence', 'seems', 'every', 'name', 'behind', 'empty', 'therein', 'back', 'me', 'fifteen', 'anyone', 'anything', 'and', 'system', 'elsewhere', 'whereupon', 'will', 'bill', 'been', 'yourselves', 'each', 'thin', 'sixty', 'indeed', 'afterwards', 'then', 'ten', 'fire', 'nothing', 'everywhere', 'had', 'when', 'even', 'found', 'always', 'co', 'cannot', 'front', 'neither', 'which', 'together', 'over', 'via', 'about', 'into', 'twenty', 'thereafter', 'twelve', 'interest', 'more', 'former', 'something', 'or', 'that', 'within', 'either', 'its', 'show', 'cry', 'how', 'those', 'whereafter', 'against', 'ie', 'cant', 'put', 'do', 'might', 'meanwhile', 'during', 'if', 'give', 'while', 'the', 'thereupon', 'first', 'not', 'yet', 'she', 'since', 'them', 'himself', 'however', 'everything', 'out', 'most', 'could', 'everyone', 'below', 'becoming', 'itself', 'they', 'another', 'fill', 'before', 'themselves', 'few', 'eg', 'around', 'him']\n",
    "path ='./'\n",
    "bow = get_bow_from_docs([\n",
    "        'www.coursereport.com_ironhack.html',\n",
    "        'en.wikipedia.org_Data_analysis.html',\n",
    "        'www.lipsum.com.html'\n",
    "    ],\n",
    "    stop_words\n",
    ")\n",
    "\n",
    "print(bow)"
   ]
  },
  {
   "cell_type": "markdown",
   "metadata": {},
   "source": [
    "Do you see any problem in the output? How do you improve the output?\n",
    "\n",
    "A good way to improve your codes is to look into the HTML data sources and try to understand where the messy output came from. A good data analyst always learns about the data in depth in order to perform the job well.\n",
    "\n",
    "Spend 20-30 minutes to improve your functions or until you feel you are good at string operations. This lab is just a practice so you don't need to stress yourself out. If you feel you've practiced enough you can stop and move on the next challenge question."
   ]
  },
  {
   "cell_type": "code",
   "execution_count": null,
   "metadata": {},
   "outputs": [],
   "source": []
  }
 ],
 "metadata": {
  "kernelspec": {
   "display_name": "Python 3",
   "language": "python",
   "name": "python3"
  },
  "language_info": {
   "codemirror_mode": {
    "name": "ipython",
    "version": 3
   },
   "file_extension": ".py",
   "mimetype": "text/x-python",
   "name": "python",
   "nbconvert_exporter": "python",
   "pygments_lexer": "ipython3",
   "version": "3.7.0"
  }
 },
 "nbformat": 4,
 "nbformat_minor": 2
}
